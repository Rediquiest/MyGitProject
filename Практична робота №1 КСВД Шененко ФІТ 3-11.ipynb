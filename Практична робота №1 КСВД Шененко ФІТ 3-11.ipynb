{
  "cells": [
    {
      "cell_type": "markdown",
      "metadata": {
        "id": "view-in-github",
        "colab_type": "text"
      },
      "source": [
        "<a href=\"https://colab.research.google.com/github/Rediquiest/MyGitProject/blob/main/%D0%9F%D1%80%D0%B0%D0%BA%D1%82%D0%B8%D1%87%D0%BD%D0%B0%20%D1%80%D0%BE%D0%B1%D0%BE%D1%82%D0%B0%20%E2%84%961%20%D0%9A%D0%A1%D0%92%D0%94%20%D0%A8%D0%B5%D0%BD%D0%B5%D0%BD%D0%BA%D0%BE%20%D0%A4%D0%86%D0%A2%203-11.ipynb\" target=\"_parent\"><img src=\"https://colab.research.google.com/assets/colab-badge.svg\" alt=\"Open In Colab\"/></a>"
      ]
    },
    {
      "cell_type": "code",
      "source": [
        "#1)Створіть одновимірний масив (вектор) з першими 20-ма натуральними числами та виведіть його значення.\n",
        "import numpy as np\n",
        "vector = np.arange(1,21)\n",
        "print(vector)"
      ],
      "metadata": {
        "colab": {
          "base_uri": "https://localhost:8080/"
        },
        "id": "Q-t378W9-43c",
        "outputId": "0bc45cd4-62f0-422b-e388-654a961c5fdf"
      },
      "execution_count": null,
      "outputs": [
        {
          "output_type": "stream",
          "name": "stdout",
          "text": [
            "[ 1  2  3  4  5  6  7  8  9 10 11 12 13 14 15 16 17 18 19 20]\n"
          ]
        }
      ]
    },
    {
      "cell_type": "code",
      "source": [
        "#2)Створіть двовимірний масив (матрицю) розміром 4x4, заповніть його одиницями та виведіть його значення.\n",
        "matrix4x4 = np.ones((4,4))\n",
        "print(matrix4x4)"
      ],
      "metadata": {
        "colab": {
          "base_uri": "https://localhost:8080/"
        },
        "id": "PwQL_Mgh_4wR",
        "outputId": "91c1a380-c6ef-42f2-baff-cdbc2770bf71"
      },
      "execution_count": null,
      "outputs": [
        {
          "output_type": "stream",
          "name": "stdout",
          "text": [
            "[[1. 1. 1. 1.]\n",
            " [1. 1. 1. 1.]\n",
            " [1. 1. 1. 1.]\n",
            " [1. 1. 1. 1.]]\n"
          ]
        }
      ]
    },
    {
      "cell_type": "code",
      "source": [
        "#3)Створіть масив розміром 5x5, заповніть його випадковими дійсними числами в діапазоні від -1 до 1 та виведіть його значення.\n",
        "matrix_random = np.random.uniform(-1,1,(5,5))\n",
        "print(matrix_random)"
      ],
      "metadata": {
        "colab": {
          "base_uri": "https://localhost:8080/"
        },
        "id": "j-pOrMCWA9n5",
        "outputId": "ef9be613-7ca8-4655-b858-28e1ab4fc348"
      },
      "execution_count": null,
      "outputs": [
        {
          "output_type": "stream",
          "name": "stdout",
          "text": [
            "[[-0.3821991   0.51546033 -0.24940369  0.40912872  0.99975853]\n",
            " [ 0.22704888  0.4424084  -0.93545817  0.11550075 -0.33741488]\n",
            " [-0.18114915 -0.80779725  0.60204718 -0.33296048  0.29139248]\n",
            " [-0.61523912  0.81084614  0.6450311   0.12071663  0.28470692]\n",
            " [ 0.01450603 -0.95132272  0.1421229  -0.53725749  0.13800427]]\n"
          ]
        }
      ]
    },
    {
      "cell_type": "code",
      "source": [
        "#4)Створіть масив розміром 3x3, заповніть його випадковими дійсними числами в діапазоні від 0 до 1 та виведіть його значення.\n",
        "matrix_random3x3 = np.random.uniform(0,1,(3,3))\n",
        "print(matrix_random3x3)"
      ],
      "metadata": {
        "colab": {
          "base_uri": "https://localhost:8080/"
        },
        "id": "63ssm_qUBY8s",
        "outputId": "ea1b599d-1ecc-4d66-ae84-7a9f88082a63"
      },
      "execution_count": null,
      "outputs": [
        {
          "output_type": "stream",
          "name": "stdout",
          "text": [
            "[[0.10251314 0.2656902  0.70283821]\n",
            " [0.11544248 0.98344589 0.45327775]\n",
            " [0.7414045  0.45320631 0.85860156]]\n"
          ]
        }
      ]
    },
    {
      "cell_type": "code",
      "source": [
        "#5)Створіть два одновимірних масиви розміром 6, заповніть їх випадковими цілими числами в діапазоні від 1 до 20 та виконайте на них поелементні операції додавання,\n",
        "#віднімання та множення.\n",
        "vector1 = np.random.randint(1, 21, 6)\n",
        "vector2 = np.random.randint(1, 21, 6)\n",
        "print(\"Вектор 1:\", vector1)\n",
        "print(\"Вектор 2:\", vector2)\n",
        "print(\"Додавання: \", vector1 + vector2)\n",
        "print(\"Віднімання: \", vector1 - vector2)\n",
        "print(\"Множення: \", vector1 * vector2)"
      ],
      "metadata": {
        "colab": {
          "base_uri": "https://localhost:8080/"
        },
        "id": "6VlD9gGnBsNd",
        "outputId": "a12ff8b7-162c-4273-9a72-f2b516115795"
      },
      "execution_count": null,
      "outputs": [
        {
          "output_type": "stream",
          "name": "stdout",
          "text": [
            "Вектор 1: [ 9 16 18 10  3 19]\n",
            "Вектор 2: [ 8  1 14 10  8 18]\n",
            "Додавання:  [17 17 32 20 11 37]\n",
            "Віднімання:  [ 1 15  4  0 -5  1]\n",
            "Множення:  [ 72  16 252 100  24 342]\n"
          ]
        }
      ]
    },
    {
      "cell_type": "code",
      "source": [
        "#6)Створіть дві матриці розміром 3x2 та 2x4, заповніть їх випадковими цілими числами в діапазоні від 1 до 5 та перемножте їх між собою.\n",
        "matrix_a = np.random.randint(1, 6, (3,2))\n",
        "matrix_b = np.random.randint(1, 6, (2,4))\n",
        "matrix_mnozh = np.dot(matrix_a,matrix_b)\n",
        "print(\"Матриця A (3x2):\")\n",
        "print(matrix_a)\n",
        "print(\"Матриця B (2x4):\")\n",
        "print(matrix_b)\n",
        "print(\"Добуток матриць A і B:\")\n",
        "print(matrix_mnozh)\n"
      ],
      "metadata": {
        "colab": {
          "base_uri": "https://localhost:8080/"
        },
        "id": "8VQtyKN0Bv-r",
        "outputId": "ce0d9dd2-ff55-42c2-ae5f-2f4a2d616197"
      },
      "execution_count": null,
      "outputs": [
        {
          "output_type": "stream",
          "name": "stdout",
          "text": [
            "Матриця A (3x2):\n",
            "[[1 2]\n",
            " [3 3]\n",
            " [1 5]]\n",
            "Матриця B (2x4):\n",
            "[[5 5 1 1]\n",
            " [1 2 3 5]]\n",
            "Добуток матриць A і B:\n",
            "[[ 7  9  7 11]\n",
            " [18 21 12 18]\n",
            " [10 15 16 26]]\n"
          ]
        }
      ]
    },
    {
      "cell_type": "code",
      "source": [
        "#7)Створіть матрицю розміром 3x3, заповніть її випадковими дійсними числами в діапазоні від 0 до 1 та транспонуйте її.\n",
        "matrix3x3 = np.random.rand(3,3)\n",
        "print(\"\\nМатриця 3x3:\")\n",
        "print(matrix3x3)\n",
        "print(\"Транспонована матриця:\")\n",
        "print(matrix3x3.T)"
      ],
      "metadata": {
        "colab": {
          "base_uri": "https://localhost:8080/"
        },
        "id": "0abtmUFkD4oD",
        "outputId": "f072022d-47a1-4faa-f67f-405e97a787dc"
      },
      "execution_count": null,
      "outputs": [
        {
          "output_type": "stream",
          "name": "stdout",
          "text": [
            "\n",
            "Матриця 3x3:\n",
            "[[0.89525673 0.71149991 0.66168205]\n",
            " [0.87440539 0.29251499 0.5899629 ]\n",
            " [0.93502459 0.15130298 0.36371512]]\n",
            "Транспонована матриця:\n",
            "[[0.89525673 0.87440539 0.93502459]\n",
            " [0.71149991 0.29251499 0.15130298]\n",
            " [0.66168205 0.5899629  0.36371512]]\n"
          ]
        }
      ]
    },
    {
      "cell_type": "code",
      "source": [
        "#8)Створіть дві матриці розміром 3x3, заповніть їх випадковими цілими числами в діапазоні від 1 до 10 та знайдіть їхню різницю.\n",
        "matrixa = np.random.randint(1, 11, (3, 3))\n",
        "matrixb = np.random.randint(1, 11, (3, 3))\n",
        "print(\"Матриця A:\")\n",
        "print(matrixa)\n",
        "print(\"Матриця B\")\n",
        "print(matrixb)\n",
        "print(\"Різниця:\")\n",
        "print(matrixa - matrixb)"
      ],
      "metadata": {
        "colab": {
          "base_uri": "https://localhost:8080/"
        },
        "id": "NpxMDd-5ENqu",
        "outputId": "254dff9c-a20c-426a-e085-04d7d67e7051"
      },
      "execution_count": null,
      "outputs": [
        {
          "output_type": "stream",
          "name": "stdout",
          "text": [
            "Матриця A:\n",
            "[[10  2  5]\n",
            " [ 8  7  3]\n",
            " [ 2  8  2]]\n",
            "Матриця B\n",
            "[[8 7 3]\n",
            " [2 3 4]\n",
            " [5 8 8]]\n",
            "Різниця:\n",
            "[[ 2 -5  2]\n",
            " [ 6  4 -1]\n",
            " [-3  0 -6]]\n"
          ]
        }
      ]
    },
    {
      "cell_type": "code",
      "source": [
        "#9)Створіть дві матриці розміром 3x3, заповніть їх випадковими цілими числами в діапазоні від -5 до 5 та знайдіть їх добуток.\n",
        "matrix_3x3a = np.random.randint(-5, 6, (3, 3))\n",
        "matrix_3x3b = np.random.randint(-5, 6, (3, 3))\n",
        "print(\"Матриця A:\")\n",
        "print(matrix_3x3a)\n",
        "print(\"Матриця B:\")\n",
        "print(matrix_3x3b)\n",
        "print(\"Добуток:\")\n",
        "print(np.dot(matrix_3x3a, matrix_3x3b))"
      ],
      "metadata": {
        "colab": {
          "base_uri": "https://localhost:8080/"
        },
        "id": "P7JBfu3WE1Ow",
        "outputId": "fc952f94-0281-4a7e-c1b1-f2f6381dfd36"
      },
      "execution_count": null,
      "outputs": [
        {
          "output_type": "stream",
          "name": "stdout",
          "text": [
            "Матриця A:\n",
            "[[-5 -1 -4]\n",
            " [ 4  4 -4]\n",
            " [-4 -2  0]]\n",
            "Матриця B:\n",
            "[[-2 -1 -1]\n",
            " [ 4  4  4]\n",
            " [ 0  1 -5]]\n",
            "Добуток:\n",
            "[[ 6 -3 21]\n",
            " [ 8  8 32]\n",
            " [ 0 -4 -4]]\n"
          ]
        }
      ]
    },
    {
      "cell_type": "code",
      "source": [
        "#10)Створіть матрицю розміром 3x3, заповніть її випадковими дійсними числами в діапазоні від -1 до 1 та знайдіть вектор-стовпчик, що містить суму елементів кожного рядка матриці.\n",
        "matrix_3x3 = np.random.uniform(-1, 1, (3, 3))\n",
        "row_sums = matrix_3x3.sum(axis=1).reshape(-1, 1)\n",
        "print(matrix_3x3)\n",
        "print(\"Вектор-стовпчик сум елементів кожного рядка:\")\n",
        "print(row_sums)"
      ],
      "metadata": {
        "colab": {
          "base_uri": "https://localhost:8080/"
        },
        "id": "Cmh_-vWaGH07",
        "outputId": "9629b9f1-d1d0-4405-cefb-783191f34012"
      },
      "execution_count": null,
      "outputs": [
        {
          "output_type": "stream",
          "name": "stdout",
          "text": [
            "[[-0.56634011  0.17087871  0.97652688]\n",
            " [ 0.0189687   0.738545   -0.35421128]\n",
            " [ 0.95330639  0.61850383  0.2054919 ]]\n",
            "Вектор-стовпчик сум елементів кожного рядка:\n",
            "[[0.58106548]\n",
            " [0.40330241]\n",
            " [1.77730212]]\n"
          ]
        }
      ]
    }
  ],
  "metadata": {
    "colab": {
      "toc_visible": true,
      "provenance": [],
      "include_colab_link": true
    },
    "kernelspec": {
      "display_name": "Python 3",
      "name": "python3"
    }
  },
  "nbformat": 4,
  "nbformat_minor": 0
}